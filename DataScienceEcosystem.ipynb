{
 "cells": [
  {
   "cell_type": "markdown",
   "id": "5e8f9563",
   "metadata": {},
   "source": [
    "# Data Science Tools and Ecosystem"
   ]
  },
  {
   "cell_type": "markdown",
   "id": "e20c95cb",
   "metadata": {},
   "source": [
    "## In this notebook, Data Science Tools and Ecosystem are summarized."
   ]
  },
  {
   "cell_type": "markdown",
   "id": "c38830e4",
   "metadata": {},
   "source": [
    "#### Some of the popular languages that Data Scientists use are: \n",
    "    1) Python\n",
    "    2) R\n",
    "    3) SQL\n",
    "    4) Julia"
   ]
  },
  {
   "cell_type": "markdown",
   "id": "665327c5",
   "metadata": {},
   "source": [
    "#### Some of the commonly used libraries used by Data Scientists include:\n",
    "     1) Pandas\n",
    "     2) Numpy\n",
    "     3) Scipy\n",
    "     4) TensorFlow\n",
    "     5) PyTorch"
   ]
  },
  {
   "cell_type": "code",
   "execution_count": 2,
   "id": "483e72fe",
   "metadata": {},
   "outputs": [
    {
     "data": {
      "text/html": [
       "<style>\n",
       "    table{float:left}\n",
       "</style>\n"
      ],
      "text/plain": [
       "<IPython.core.display.HTML object>"
      ]
     },
     "metadata": {},
     "output_type": "display_data"
    }
   ],
   "source": [
    "%%html\n",
    "<style>\n",
    "    table{float:left}\n",
    "</style>"
   ]
  },
  {
   "cell_type": "markdown",
   "id": "ca528d87",
   "metadata": {},
   "source": [
    "|Data Science Tools|\n",
    "|:-|\n",
    "|Jupyter Notebooks |\n",
    "|RStudio           |\n",
    "|Apache Zeppelin   | "
   ]
  },
  {
   "cell_type": "markdown",
   "id": "5ff0b06e",
   "metadata": {},
   "source": [
    "### Below are a few examples of evaluating arithmetic expressions in Python"
   ]
  },
  {
   "cell_type": "code",
   "execution_count": 13,
   "id": "1b9c3e13",
   "metadata": {},
   "outputs": [
    {
     "data": {
      "text/plain": [
       "17"
      ]
     },
     "execution_count": 13,
     "metadata": {},
     "output_type": "execute_result"
    }
   ],
   "source": [
    "# This a simple arithmetic expression to mutiply then add integers\n",
    "(3*4)+5"
   ]
  },
  {
   "cell_type": "code",
   "execution_count": 12,
   "id": "1bf8b975",
   "metadata": {},
   "outputs": [
    {
     "name": "stdout",
     "output_type": "stream",
     "text": [
      "200  minutes are equal to  3.33 hours\n"
     ]
    }
   ],
   "source": [
    "# This will convert 200 minutes to hours by diving by 60\n",
    "inputmin = 200\n",
    "outputhours = 200/60\n",
    "rounded_hours = round(outputhours, 2)\n",
    "print(inputmin, \" minutes are equal to \", rounded_hours, \"hours\")\n"
   ]
  },
  {
   "cell_type": "markdown",
   "id": "6d874e93",
   "metadata": {},
   "source": [
    "  **Objectives**\n",
    "  + Describe the components of a Data Scientist's toolkit and list various tool categories.\n",
    "  + List examples of open-source tools used in data science.\n",
    "  + Describe the relevant features of open-source tools.\n",
    "  + Create a Jupyter Notebook with markdown and code cells\n",
    "  + List examples of languages, libraries and tools used in Data Science"
   ]
  },
  {
   "cell_type": "markdown",
   "id": "f2e510ad",
   "metadata": {},
   "source": [
    "## Author\n",
    "Sabawun Afzal Khattak"
   ]
  }
 ],
 "metadata": {
  "kernelspec": {
   "display_name": "Python 3 (ipykernel)",
   "language": "python",
   "name": "python3"
  },
  "language_info": {
   "codemirror_mode": {
    "name": "ipython",
    "version": 3
   },
   "file_extension": ".py",
   "mimetype": "text/x-python",
   "name": "python",
   "nbconvert_exporter": "python",
   "pygments_lexer": "ipython3",
   "version": "3.9.7"
  }
 },
 "nbformat": 4,
 "nbformat_minor": 5
}
